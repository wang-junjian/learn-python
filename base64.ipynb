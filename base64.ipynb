{
 "cells": [
  {
   "cell_type": "markdown",
   "metadata": {},
   "source": [
    "# ndarray和base64互转"
   ]
  },
  {
   "cell_type": "code",
   "execution_count": 7,
   "metadata": {},
   "outputs": [],
   "source": [
    "import base64\n",
    "import numpy as np"
   ]
  },
  {
   "cell_type": "code",
   "execution_count": 16,
   "metadata": {},
   "outputs": [
    {
     "name": "stdout",
     "output_type": "stream",
     "text": [
      "[ 0.00000000e+000 -2.68679584e+154  2.47032823e-323  0.00000000e+000\n",
      "  0.00000000e+000  0.00000000e+000  0.00000000e+000  0.00000000e+000\n",
      "  0.00000000e+000  6.95335581e-309]\n"
     ]
    }
   ],
   "source": [
    "n = np.ndarray(shape=(10), dtype=float)\n",
    "print(n)"
   ]
  },
  {
   "cell_type": "code",
   "execution_count": 17,
   "metadata": {},
   "outputs": [
    {
     "name": "stdout",
     "output_type": "stream",
     "text": [
      "AAAAAAAAAAC6qknC/gcA4AUAAAAAAAAAAAAAAAAAAAAAAAAAAAAAAAAAAAAAAAAAAAAAAAAAAAAAAAAAAAAAAAAAAAAAAAAAAAAAAAAABQA=\n",
      "[ 0.00000000e+000 -2.68679584e+154  2.47032823e-323  0.00000000e+000\n",
      "  0.00000000e+000  0.00000000e+000  0.00000000e+000  0.00000000e+000\n",
      "  0.00000000e+000  6.95335581e-309]\n"
     ]
    }
   ],
   "source": [
    "base64_str = base64.b64encode(n).decode()\n",
    "print(base64_str)\n",
    "\n",
    "nn = np.frombuffer(base64.b64decode(base64_str))\n",
    "print(nn)"
   ]
  },
  {
   "cell_type": "code",
   "execution_count": 18,
   "metadata": {},
   "outputs": [
    {
     "name": "stdout",
     "output_type": "stream",
     "text": [
      "b'AAAAAAAAAAC6qknC/gcA4AUAAAAAAAAAAAAAAAAAAAAAAAAAAAAAAAAAAAAAAAAAAAAAAAAAAAAAAAAAAAAAAAAAAAAAAAAAAAAAAAAABQA='\n",
      "AAAAAAAAAAC6qknC/gcA4AUAAAAAAAAAAAAAAAAAAAAAAAAAAAAAAAAAAAAAAAAAAAAAAAAAAAAAAAAAAAAAAAAAAAAAAAAAAAAAAAAABQA=\n"
     ]
    }
   ],
   "source": [
    "base64_byte = base64.b64encode(n)\n",
    "print(base64_byte)\n",
    "\n",
    "base64_str = base64.b64encode(n).decode()\n",
    "print(base64_str)"
   ]
  },
  {
   "cell_type": "code",
   "execution_count": 19,
   "metadata": {},
   "outputs": [
    {
     "name": "stdout",
     "output_type": "stream",
     "text": [
      "b'\\x00\\x00\\x00\\x00\\x00\\x00\\x00\\x00\\xba\\xaaI\\xc2\\xfe\\x07\\x00\\xe0\\x05\\x00\\x00\\x00\\x00\\x00\\x00\\x00\\x00\\x00\\x00\\x00\\x00\\x00\\x00\\x00\\x00\\x00\\x00\\x00\\x00\\x00\\x00\\x00\\x00\\x00\\x00\\x00\\x00\\x00\\x00\\x00\\x00\\x00\\x00\\x00\\x00\\x00\\x00\\x00\\x00\\x00\\x00\\x00\\x00\\x00\\x00\\x00\\x00\\x00\\x00\\x00\\x00\\x00\\x00\\x00\\x00\\x00\\x00\\x00\\x00\\x00\\x05\\x00'\n",
      "b'\\x00\\x00\\x00\\x00\\x00\\x00\\x00\\x00\\xba\\xaaI\\xc2\\xfe\\x07\\x00\\xe0\\x05\\x00\\x00\\x00\\x00\\x00\\x00\\x00\\x00\\x00\\x00\\x00\\x00\\x00\\x00\\x00\\x00\\x00\\x00\\x00\\x00\\x00\\x00\\x00\\x00\\x00\\x00\\x00\\x00\\x00\\x00\\x00\\x00\\x00\\x00\\x00\\x00\\x00\\x00\\x00\\x00\\x00\\x00\\x00\\x00\\x00\\x00\\x00\\x00\\x00\\x00\\x00\\x00\\x00\\x00\\x00\\x00\\x00\\x00\\x00\\x00\\x00\\x05\\x00'\n",
      "[ 0.00000000e+000 -2.68679584e+154  2.47032823e-323  0.00000000e+000\n",
      "  0.00000000e+000  0.00000000e+000  0.00000000e+000  0.00000000e+000\n",
      "  0.00000000e+000  6.95335581e-309]\n"
     ]
    }
   ],
   "source": [
    "bs = base64.b64decode(base64_byte)\n",
    "print(bs)\n",
    "\n",
    "bs = base64.b64decode(base64_str)\n",
    "print(bs)\n",
    "\n",
    "nn = np.frombuffer(bs)\n",
    "print(nn)"
   ]
  }
 ],
 "metadata": {
  "kernelspec": {
   "display_name": "Python 3",
   "language": "python",
   "name": "python3"
  },
  "language_info": {
   "codemirror_mode": {
    "name": "ipython",
    "version": 3
   },
   "file_extension": ".py",
   "mimetype": "text/x-python",
   "name": "python",
   "nbconvert_exporter": "python",
   "pygments_lexer": "ipython3",
   "version": "3.6.4"
  }
 },
 "nbformat": 4,
 "nbformat_minor": 2
}
