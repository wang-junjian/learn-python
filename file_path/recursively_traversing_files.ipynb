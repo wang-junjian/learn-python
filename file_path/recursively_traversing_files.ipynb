{
 "cells": [
  {
   "cell_type": "code",
   "execution_count": 20,
   "metadata": {},
   "outputs": [
    {
     "name": "stdout",
     "output_type": "stream",
     "text": [
      "./.DS_Store\n",
      "./recursively_traversing_dirs_files.ipynb\n",
      "./path.ipynb\n",
      "./watchdog_filesystem_events_monitoring.ipynb\n",
      "./get_file_or_dir_name.ipynb\n",
      "./read_text.ipynb\n",
      "./text.txt\n",
      "./.ipynb_checkpoints/read_text-checkpoint.ipynb\n",
      "./.ipynb_checkpoints/watchdog_filesystem_events_monitoring-checkpoint.ipynb\n",
      "./.ipynb_checkpoints/get_file_or_dir_name-checkpoint.ipynb\n",
      "./.ipynb_checkpoints/path-checkpoint.ipynb\n",
      "./.ipynb_checkpoints/recursively_traversing_dirs_files-checkpoint.ipynb\n"
     ]
    }
   ],
   "source": [
    "import os\n",
    "\n",
    "def search_files(directory='.', extension=''):\n",
    "    extension = extension.lower()\n",
    "    for dirpath, dirnames, files in os.walk(directory):\n",
    "        for name in files:\n",
    "            if extension and name.lower().endswith(extension):\n",
    "                print(os.path.join(dirpath, name))\n",
    "            elif not extension:\n",
    "                print(os.path.join(dirpath, name))\n",
    "                \n",
    "search_files()"
   ]
  },
  {
   "cell_type": "markdown",
   "metadata": {},
   "source": [
    "## 参考资料\n",
    "* [Python: how to recursively search for files traversing directories](https://tutorials.technology/tutorials/93-Python-recursive-file-search.html)\n",
    "* [Python 101: How to traverse a directory](https://www.blog.pythonlibrary.org/2016/01/26/python-101-how-to-traverse-a-directory/)"
   ]
  }
 ],
 "metadata": {
  "kernelspec": {
   "display_name": "Python 3",
   "language": "python",
   "name": "python3"
  },
  "language_info": {
   "codemirror_mode": {
    "name": "ipython",
    "version": 3
   },
   "file_extension": ".py",
   "mimetype": "text/x-python",
   "name": "python",
   "nbconvert_exporter": "python",
   "pygments_lexer": "ipython3",
   "version": "3.6.4"
  }
 },
 "nbformat": 4,
 "nbformat_minor": 2
}
