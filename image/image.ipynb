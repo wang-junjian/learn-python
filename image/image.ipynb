{
 "cells": [
  {
   "cell_type": "code",
   "execution_count": 1,
   "metadata": {},
   "outputs": [],
   "source": [
    "from PIL import Image"
   ]
  },
  {
   "cell_type": "code",
   "execution_count": 2,
   "metadata": {},
   "outputs": [],
   "source": [
    "def scale_zoom_image(filename, zoom_size, out_filename):\n",
    "    \"\"\"等比缩放图片\"\"\"\n",
    "    \n",
    "    image = Image.open(filename)\n",
    "    width,height = image.size\n",
    "    \n",
    "    scale = 1.0\n",
    "    if width>zoom_size or height>zoom_size:\n",
    "        scale *= max(width/zoom_size, height/zoom_size)\n",
    "        \n",
    "    new_image = image.resize((int(width/scale), int(height/scale)), Image.ANTIALIAS)\n",
    "    new_image.save(out_filename)\n",
    "    new_image.close()\n",
    "    image.close()"
   ]
  },
  {
   "cell_type": "code",
   "execution_count": 3,
   "metadata": {},
   "outputs": [],
   "source": [
    "filename = 'amazon_aws_machine_learning.jpg'\n",
    "filename_thumbnail = 'amazon_aws_machine_learning_thumbnail.jpg'\n",
    "scale_zoom_image(filename, 400, filename_thumbnail)"
   ]
  },
  {
   "cell_type": "markdown",
   "metadata": {},
   "source": [
    "![原图片](amazon_aws_machine_learning.jpg)\n",
    "![缩放图片](amazon_aws_machine_learning_thumbnail.jpg)"
   ]
  },
  {
   "cell_type": "markdown",
   "metadata": {},
   "source": [
    "## 参考资料\n",
    "* [Pillow Image Module](https://pillow.readthedocs.io/en/5.2.x/reference/Image.html)\n",
    "* [python按照比例缩小图片并生成新的图片](https://blog.csdn.net/chenghuan1990/article/details/79136895)"
   ]
  }
 ],
 "metadata": {
  "kernelspec": {
   "display_name": "Python 3",
   "language": "python",
   "name": "python3"
  },
  "language_info": {
   "codemirror_mode": {
    "name": "ipython",
    "version": 3
   },
   "file_extension": ".py",
   "mimetype": "text/x-python",
   "name": "python",
   "nbconvert_exporter": "python",
   "pygments_lexer": "ipython3",
   "version": "3.6.4"
  }
 },
 "nbformat": 4,
 "nbformat_minor": 2
}
