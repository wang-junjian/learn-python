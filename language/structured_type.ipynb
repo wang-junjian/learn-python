{
 "cells": [
  {
   "cell_type": "markdown",
   "metadata": {},
   "source": [
    "# 结构化类型"
   ]
  },
  {
   "cell_type": "code",
   "execution_count": 1,
   "metadata": {},
   "outputs": [],
   "source": [
    "import numpy as np"
   ]
  },
  {
   "cell_type": "code",
   "execution_count": 18,
   "metadata": {},
   "outputs": [
    {
     "name": "stdout",
     "output_type": "stream",
     "text": [
      "[(b'wjj', 37, 90.5,  92.5) (b'wrj',  9, 96.5, 100. )]\n",
      "(b'wjj', 37, 90.5, 92.5)\n",
      "ages:  [37  9]\n",
      "chinese mean:  93.5\n",
      "math, mean:  96.25\n"
     ]
    }
   ],
   "source": [
    "person_type = np.dtype([('name','S50'), ('age','i'), ('chinese','f'), ('math','f')])\n",
    "\n",
    "persons = np.array([\n",
    "    ('wjj', 37, 90.5, 92.5), \n",
    "    ('wrj', 9, 96.5, 100)], dtype=person_type)\n",
    "\n",
    "print(persons)\n",
    "print(persons[0])\n",
    "print('ages: ', persons[:]['age'])\n",
    "\n",
    "chineses = persons[:]['chinese']\n",
    "maths = persons[:]['math']\n",
    "\n",
    "print('chinese mean: ', np.mean(chineses))\n",
    "print('math, mean: ', np.mean(maths))"
   ]
  },
  {
   "cell_type": "code",
   "execution_count": 19,
   "metadata": {},
   "outputs": [
    {
     "name": "stdout",
     "output_type": "stream",
     "text": [
      "[(b'wjj', 37, 90.5,  92.5) (b'wrj',  9, 96.5, 100. )]\n",
      "(b'wjj', 37, 90.5, 92.5)\n",
      "ages:  [37  9]\n",
      "chinese mean:  93.5\n",
      "math, mean:  96.25\n"
     ]
    }
   ],
   "source": [
    "person_type = np.dtype({\n",
    "    'names':['name', 'age', 'chinese', 'math'], \n",
    "    'formats':['S50', 'i', 'f', 'f']})\n",
    "\n",
    "persons = np.array([\n",
    "    ('wjj', 37, 90.5, 92.5), \n",
    "    ('wrj', 9, 96.5, 100)], dtype=person_type)\n",
    "\n",
    "print(persons)\n",
    "print(persons[0])\n",
    "print('ages: ', persons[:]['age'])\n",
    "\n",
    "chineses = persons[:]['chinese']\n",
    "maths = persons[:]['math']\n",
    "\n",
    "print('chinese mean: ', np.mean(chineses))\n",
    "print('math, mean: ', np.mean(maths))"
   ]
  },
  {
   "cell_type": "markdown",
   "metadata": {},
   "source": [
    "## 参考资料\n",
    "* [numpy.dtype](https://docs.scipy.org/doc/numpy-1.15.1/reference/generated/numpy.dtype.html)"
   ]
  }
 ],
 "metadata": {
  "kernelspec": {
   "display_name": "Python 3",
   "language": "python",
   "name": "python3"
  },
  "language_info": {
   "codemirror_mode": {
    "name": "ipython",
    "version": 3
   },
   "file_extension": ".py",
   "mimetype": "text/x-python",
   "name": "python",
   "nbconvert_exporter": "python",
   "pygments_lexer": "ipython3",
   "version": "3.7.0"
  }
 },
 "nbformat": 4,
 "nbformat_minor": 2
}
