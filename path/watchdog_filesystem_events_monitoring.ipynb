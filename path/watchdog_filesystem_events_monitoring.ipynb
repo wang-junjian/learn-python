{
 "cells": [
  {
   "cell_type": "code",
   "execution_count": 1,
   "metadata": {},
   "outputs": [],
   "source": [
    "import time\n",
    "from watchdog.observers import Observer\n",
    "from watchdog.events import FileSystemEventHandler"
   ]
  },
  {
   "cell_type": "markdown",
   "metadata": {},
   "source": [
    "## 定义处理的文件系统事件"
   ]
  },
  {
   "cell_type": "code",
   "execution_count": 2,
   "metadata": {},
   "outputs": [],
   "source": [
    "class MyFileSystemEventHandler(FileSystemEventHandler):\n",
    "    def on_created(self, event):\n",
    "        super(MyFileSystemEventHandler, self).on_created(event)\n",
    "        if event.is_directory:\n",
    "            print('created dir:', event.src_path)\n",
    "        else:\n",
    "            print('created file:', event.src_path)\n",
    "\n",
    "    def on_deleted(self, event):\n",
    "        super(MyFileSystemEventHandler, self).on_deleted(event)\n",
    "        if event.is_directory:\n",
    "            print('deleted dir:', event.src_path)\n",
    "        else:\n",
    "            print('deleted file:', event.src_path)\n",
    "\n",
    "    def on_modified(self, event):\n",
    "        super(MyFileSystemEventHandler, self).on_modified(event)\n",
    "        if event.is_directory:\n",
    "            print('modified dir:', event.src_path)\n",
    "        else:\n",
    "            print('modified file:', event.src_path)\n",
    "\n",
    "    def on_moved(self, event):\n",
    "        super(MyFileSystemEventHandler, self).on_moved(event)\n",
    "        if event.is_directory:\n",
    "            print('moved dir:', event.src_path)\n",
    "        else:\n",
    "            print('moved file:', event.src_path)"
   ]
  },
  {
   "cell_type": "markdown",
   "metadata": {},
   "source": [
    "## 监测当前目录"
   ]
  },
  {
   "cell_type": "code",
   "execution_count": 3,
   "metadata": {},
   "outputs": [
    {
     "name": "stdout",
     "output_type": "stream",
     "text": [
      "modified dir: .\n",
      "created dir: ./未命名文件夹\n",
      "modified dir: .\n",
      "moved dir: ./未命名文件夹\n",
      "modified file: ./.DS_Store\n",
      "deleted dir: ./123\n",
      "modified dir: .\n",
      "modified file: ./.DS_Store\n"
     ]
    }
   ],
   "source": [
    "path = '.'\n",
    "\n",
    "observer = Observer()\n",
    "event_handler = MyFileSystemEventHandler()\n",
    "observer.schedule(event_handler, path, recursive=True)\n",
    "observer.start()\n",
    "try:\n",
    "    while True:\n",
    "        time.sleep(1)\n",
    "except KeyboardInterrupt:\n",
    "    observer.stop()\n",
    "observer.join()"
   ]
  }
 ],
 "metadata": {
  "kernelspec": {
   "display_name": "Python 3",
   "language": "python",
   "name": "python3"
  },
  "language_info": {
   "codemirror_mode": {
    "name": "ipython",
    "version": 3
   },
   "file_extension": ".py",
   "mimetype": "text/x-python",
   "name": "python",
   "nbconvert_exporter": "python",
   "pygments_lexer": "ipython3",
   "version": "3.6.4"
  }
 },
 "nbformat": 4,
 "nbformat_minor": 2
}
